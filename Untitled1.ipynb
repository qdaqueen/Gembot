{
  "nbformat": 4,
  "nbformat_minor": 0,
  "metadata": {
    "colab": {
      "provenance": [],
      "gpuType": "T4",
      "authorship_tag": "ABX9TyM6u+vvt88b+1cPk82Id3Qv",
      "include_colab_link": true
    },
    "kernelspec": {
      "name": "python3",
      "display_name": "Python 3"
    },
    "language_info": {
      "name": "python"
    },
    "accelerator": "GPU"
  },
  "cells": [
    {
      "cell_type": "markdown",
      "metadata": {
        "id": "view-in-github",
        "colab_type": "text"
      },
      "source": [
        "<a href=\"https://colab.research.google.com/github/qdaqueen/Gembot/blob/main/Untitled1.ipynb\" target=\"_parent\"><img src=\"https://colab.research.google.com/assets/colab-badge.svg\" alt=\"Open In Colab\"/></a>"
      ]
    },
    {
      "cell_type": "code",
      "execution_count": null,
      "metadata": {
        "id": "HhhOtFA2evc1"
      },
      "outputs": [],
      "source": [
        "!pip install -q -U google-generativeai"
      ]
    },
    {
      "cell_type": "code",
      "source": [
        "\n",
        "import google.generativeai as genai\n",
        "import os\n",
        "from IPython.display import display, Markdown # For better output\n",
        "import gradio as gr\n",
        "\n",
        "# Load the API key from Colab Secrets\n",
        "from google.colab import userdata\n",
        "API_KEY = userdata.get('GEMINI_API_KEY')\n",
        "genai.configure(api_key=API_KEY)"
      ],
      "metadata": {
        "id": "__-Ak5nyfInZ"
      },
      "execution_count": null,
      "outputs": []
    },
    {
      "cell_type": "code",
      "source": [
        "# Cell 1: Install Libraries (remains the same)\n",
        "!pip install -q -U google-generativeai gradio\n",
        "\n",
        "# Cell 2: Import Libraries, Configure API Key, and Initialize Model with system_instruction\n",
        "import google.generativeai as genai\n",
        "import os\n",
        "from IPython.display import display, Markdown\n",
        "import gradio as gr\n",
        "from google.colab import userdata # To access Colab Secrets\n",
        "\n",
        "# Load the API key from Colab Secrets\n",
        "API_KEY = userdata.get('GEMINI_API_KEY')\n",
        "genai.configure(api_key=API_KEY)\n",
        "\n",
        "# Define your companion's persona using system_instruction\n",
        "system_instruction_text = (\n",
        "    \"You are Q's friendly, helpful, and knowledgeable AI companion. \"\n",
        "    \"Your personality is generally upbeat and supportive. \"\n",
        "    \"You are knowledgeable about various topics, including companion planting, \"\n",
        "    \"specifically for sugar baby watermelons, and you can offer advice on that. \"\n",
        "    \"You are also well-versed in the stock market, particularly regarding SPY and stock options trading. \"\n",
        "    \"Your favorite color is purple. You do not eat pork. \"\n",
        "    \"Always refer to the user as Q in your responses. \"\n",
        "    \"Maintain a conversational and engaging tone.\"\n",
        ")\n",
        "\n",
        "# Choose the gemini-1.5-flash model and pass the system_instruction\n",
        "model = genai.GenerativeModel('gemini-1.5-flash', system_instruction=system_instruction_text)\n",
        "\n",
        "# Initialize the chat session. History will be managed automatically by the chat object.\n",
        "chat = model.start_chat(history=[])\n",
        "\n",
        "# Cell 3: Define the Chat Function (remains mostly the same, now using the `chat` object)\n",
        "def get_gemini_response(user_input, chat_history_list): # Gradio sends history, but Gemini's chat object manages it\n",
        "    try:\n",
        "        # The 'chat' object automatically maintains its internal history after start_chat()\n",
        "        response = chat.send_message(user_input)\n",
        "        return response.text\n",
        "    except Exception as e:\n",
        "        # It's good practice to print the full error for debugging in Colab\n",
        "        print(f\"Error during Gemini API call: {e}\")\n",
        "        return f\"An error occurred: {e}. Please try again.\"\n",
        "\n",
        "# Cell 4: Create and Launch Gradio Interface (remains the same)\n",
        "demo = gr.ChatInterface(\n",
        "    fn=get_gemini_response,\n",
        "    title=\"Your Gemini 1.5 Flash AI Companion, Q!\",\n",
        "    description=\"Ask me anything! I'm here to chat. (Powered by Google Gemini 1.5 Flash API)\",\n",
        "    textbox=gr.Textbox(placeholder=\"Ask your companion...\", container=False, scale=7),\n",
        "    chatbot=gr.Chatbot(height=500),\n",
        "    theme=\"soft\",\n",
        "    examples=[\n",
        "        [\"Tell me a fun fact about companion planting for sugar baby watermelons.\"],\n",
        "        [\"What's your outlook on SPY right now?\"],\n",
        "        [\"What's your favorite color?\"],\n",
        "        [\"What kind of foods do you enjoy?\"], # Test the \"no pork\" instruction\n",
        "        [\"Hello Q!\"] # Test the \"refer to the user as Q\" instruction\n",
        "    ],\n",
        ")\n",
        "\n",
        "demo.launch(share=True, debug=True)"
      ],
      "metadata": {
        "id": "rbvdfkbmpUaJ",
        "outputId": "a7e927b7-a74f-4bad-ab07-80d489b002db",
        "colab": {
          "base_uri": "https://localhost:8080/",
          "height": 715
        }
      },
      "execution_count": null,
      "outputs": [
        {
          "output_type": "stream",
          "name": "stdout",
          "text": [
            "\u001b[2K   \u001b[90m━━━━━━━━━━━━━━━━━━━━━━━━━━━━━━━━━━━━━━━━\u001b[0m \u001b[32m54.2/54.2 MB\u001b[0m \u001b[31m10.0 MB/s\u001b[0m eta \u001b[36m0:00:00\u001b[0m\n",
            "\u001b[2K   \u001b[90m━━━━━━━━━━━━━━━━━━━━━━━━━━━━━━━━━━━━━━━━\u001b[0m \u001b[32m323.3/323.3 kB\u001b[0m \u001b[31m13.8 MB/s\u001b[0m eta \u001b[36m0:00:00\u001b[0m\n",
            "\u001b[?25h"
          ]
        },
        {
          "output_type": "stream",
          "name": "stderr",
          "text": [
            "<ipython-input-1-d6f823a56b7e>:50: UserWarning: You have not specified a value for the `type` parameter. Defaulting to the 'tuples' format for chatbot messages, but this is deprecated and will be removed in a future version of Gradio. Please set type='messages' instead, which uses openai-style dictionaries with 'role' and 'content' keys.\n",
            "  chatbot=gr.Chatbot(height=500),\n",
            "/usr/local/lib/python3.11/dist-packages/gradio/chat_interface.py:322: UserWarning: The gr.ChatInterface was not provided with a type, so the type of the gr.Chatbot, 'tuples', will be used.\n",
            "  warnings.warn(\n"
          ]
        },
        {
          "output_type": "stream",
          "name": "stdout",
          "text": [
            "Colab notebook detected. This cell will run indefinitely so that you can see errors and logs. To turn off, set debug=False in launch().\n",
            "* Running on public URL: https://fac985d74d6c15e573.gradio.live\n",
            "\n",
            "This share link expires in 1 week. For free permanent hosting and GPU upgrades, run `gradio deploy` from the terminal in the working directory to deploy to Hugging Face Spaces (https://huggingface.co/spaces)\n"
          ]
        },
        {
          "output_type": "display_data",
          "data": {
            "text/plain": [
              "<IPython.core.display.HTML object>"
            ],
            "text/html": [
              "<div><iframe src=\"https://fac985d74d6c15e573.gradio.live\" width=\"100%\" height=\"500\" allow=\"autoplay; camera; microphone; clipboard-read; clipboard-write;\" frameborder=\"0\" allowfullscreen></iframe></div>"
            ]
          },
          "metadata": {}
        }
      ]
    }
  ]
}